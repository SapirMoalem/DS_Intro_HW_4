{
 "cells": [
  {
   "cell_type": "code",
   "execution_count": 69,
   "metadata": {},
   "outputs": [
    {
     "name": "stdout",
     "output_type": "stream",
     "text": [
      "{'Amsterdam': ('4,528 km', '2 days 0 hours', 52.3675734, 4.9041389),\n",
      " 'Basel': ('4,091 km', '1 day 20 hours', 47.5595986, 7.5885761),\n",
      " 'Doha': ('2,104 km', '21 hours 51 mins', 25.2854473, 51.53103979999999),\n",
      " 'Istanbul': ('1,809 km', '20 hours 42 mins', 41.0082376, 28.9783589),\n",
      " 'Valletta': ('3,783 km', '2 days 2 hours', 35.8989085, 14.5145528)}\n"
     ]
    }
   ],
   "source": [
    "import requests\n",
    "import json\n",
    "import pprint as pp\n",
    "\n",
    "file = open(r'C:\\Users\\saadon100\\Desktop\\חומר לימודי\\שנה ג\\סמסטר ב\\מבוא לידע ונתונים\\מטלות\\מטלה 4\\dests.txt')\n",
    "destinations = file.read().split(\"\\n\")\n",
    "# print(destinations)\n",
    "\n",
    "#---------------ENTER HERE YOUR KEY--------------#\n",
    "key_api = 'fictive'\n",
    "\n",
    "dict = {}\n",
    "\n",
    "for dest in destinations:\n",
    "# distance and duration\n",
    "    url_dist = f\"https://maps.googleapis.com/maps/api/distancematrix/json?origins=Jerusalem&destinations={dest}&mode=car&key=\"\n",
    "    url_dist_full = url_dist+key_api\n",
    "    \n",
    "    payload={}\n",
    "    headers = {}\n",
    "\n",
    "    response_dist = requests.request(\"GET\", url_dist_full, headers=headers, data=payload).json()\n",
    "\n",
    "    # print(type(response))\n",
    "    distance = \"\"\n",
    "    duration = \"\"\n",
    "    for obj in response_dist['rows']:\n",
    "        for data in obj['elements']:\n",
    "            distance = data['distance']['text']\n",
    "            duration = data['duration']['text']\n",
    "    \n",
    "    \n",
    "# latitude and longitude\n",
    "    \n",
    "    url_geo = f\"https://maps.googleapis.com/maps/api/geocode/json?address={dest}&key=\"\n",
    "    url_geo_full = url_geo+key_api\n",
    "    \n",
    "#     print(url_geo_full)\n",
    "    response_geo = requests.request(\"GET\", url_geo_full, headers=headers, data=payload).json()\n",
    "#     pp.pprint(response_geo)\n",
    "       \n",
    "    \n",
    "    location = {}\n",
    "    for obj in response_geo['results']:\n",
    "        location = obj['geometry']['location'] \n",
    "    \n",
    "    dict[dest] = (distance,duration,location[\"lat\"],location[\"lng\"])\n",
    "    \n",
    "    \n",
    "        "
   ]
  },
  {
   "cell_type": "code",
   "execution_count": 73,
   "metadata": {},
   "outputs": [
    {
     "name": "stdout",
     "output_type": "stream",
     "text": [
      "{'Amsterdam': ('4,528 km', '2 days 0 hours', 52.3675734, 4.9041389),\n",
      " 'Basel': ('4,091 km', '1 day 20 hours', 47.5595986, 7.5885761),\n",
      " 'Doha': ('2,104 km', '21 hours 51 mins', 25.2854473, 51.53103979999999),\n",
      " 'Istanbul': ('1,809 km', '20 hours 42 mins', 41.0082376, 28.9783589),\n",
      " 'Valletta': ('3,783 km', '2 days 2 hours', 35.8989085, 14.5145528)}\n"
     ]
    }
   ],
   "source": [
    "pp.pprint(dict)"
   ]
  },
  {
   "cell_type": "code",
   "execution_count": 101,
   "metadata": {},
   "outputs": [
    {
     "name": "stdout",
     "output_type": "stream",
     "text": [
      "Valletta\n",
      "Basel\n",
      "Amsterdam\n"
     ]
    }
   ],
   "source": [
    "# distances = [dict.values().split()[0]]\n",
    "# print(distances)\n",
    "\n",
    "for key,v in dict.items():\n",
    "    v[0].split()[0]\n",
    "    \n",
    "    \n",
    "top_3 = sorted( [ (v,k) for k,v in dict.items() ] )[-3:]\n",
    "for tup in top_3:\n",
    "    print(tup[1])\n",
    "    \n",
    "    \n",
    "\n",
    "\n",
    "\n",
    "\n"
   ]
  }
 ],
 "metadata": {
  "kernelspec": {
   "display_name": "Python 3",
   "language": "python",
   "name": "python3"
  },
  "language_info": {
   "codemirror_mode": {
    "name": "ipython",
    "version": 3
   },
   "file_extension": ".py",
   "mimetype": "text/x-python",
   "name": "python",
   "nbconvert_exporter": "python",
   "pygments_lexer": "ipython3",
   "version": "3.7.6"
  }
 },
 "nbformat": 4,
 "nbformat_minor": 4
}
